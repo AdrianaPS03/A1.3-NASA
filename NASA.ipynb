{
 "cells": [
  {
   "cell_type": "markdown",
   "id": "db2ffb4b-1a02-4126-87e7-8509810017d6",
   "metadata": {},
   "source": [
    "# **Regresión Lineal Múltiple**"
   ]
  },
  {
   "cell_type": "markdown",
   "id": "1b59534a-bfce-49f3-857a-9816222a5183",
   "metadata": {},
   "source": [
    "### **Base de datos:** NASA.csv"
   ]
  },
  {
   "cell_type": "markdown",
   "id": "ffc14674-3385-4273-8212-fd5a2bf39b94",
   "metadata": {},
   "source": [
    "1. Importa los datos del archivo “NASA.csv” a tu ambiente de trabajo. Revisa las dimensiones \n",
    "del data frame e imprime en consola tanto dichas dimensiones como las primeras 15 fila \r\n",
    "de datos."
   ]
  },
  {
   "cell_type": "code",
   "execution_count": 4,
   "id": "f8ef3988-0a43-439e-92a4-5ca8d125132a",
   "metadata": {},
   "outputs": [],
   "source": [
    "#Importar librerias\n",
    "import pandas as pd\n",
    "import matplotlib.pyplot as plt\n",
    "import numpy as np\n",
    "import scipy.stats as st\n",
    "import statsmodels.api as sm\n",
    "#Importar libreria para dividir los datos en training | test\n",
    "from sklearn.model_selection import train_test_split"
   ]
  },
  {
   "cell_type": "code",
   "execution_count": 5,
   "id": "f1a77efd-5647-4afa-8f5a-f5225e121f26",
   "metadata": {},
   "outputs": [
    {
     "name": "stdout",
     "output_type": "stream",
     "text": [
      "Dimensiones del Dataframe: (1503, 6)\n"
     ]
    },
    {
     "data": {
      "text/html": [
       "<div>\n",
       "<style scoped>\n",
       "    .dataframe tbody tr th:only-of-type {\n",
       "        vertical-align: middle;\n",
       "    }\n",
       "\n",
       "    .dataframe tbody tr th {\n",
       "        vertical-align: top;\n",
       "    }\n",
       "\n",
       "    .dataframe thead th {\n",
       "        text-align: right;\n",
       "    }\n",
       "</style>\n",
       "<table border=\"1\" class=\"dataframe\">\n",
       "  <thead>\n",
       "    <tr style=\"text-align: right;\">\n",
       "      <th></th>\n",
       "      <th>frecuencia</th>\n",
       "      <th>angulo</th>\n",
       "      <th>longitud</th>\n",
       "      <th>velocidad</th>\n",
       "      <th>espesor</th>\n",
       "      <th>presion</th>\n",
       "    </tr>\n",
       "  </thead>\n",
       "  <tbody>\n",
       "    <tr>\n",
       "      <th>0</th>\n",
       "      <td>800</td>\n",
       "      <td>0.0</td>\n",
       "      <td>0.3048</td>\n",
       "      <td>71.3</td>\n",
       "      <td>0.002663</td>\n",
       "      <td>126.201</td>\n",
       "    </tr>\n",
       "    <tr>\n",
       "      <th>1</th>\n",
       "      <td>1000</td>\n",
       "      <td>0.0</td>\n",
       "      <td>0.3048</td>\n",
       "      <td>71.3</td>\n",
       "      <td>0.002663</td>\n",
       "      <td>125.201</td>\n",
       "    </tr>\n",
       "    <tr>\n",
       "      <th>2</th>\n",
       "      <td>1250</td>\n",
       "      <td>0.0</td>\n",
       "      <td>0.3048</td>\n",
       "      <td>71.3</td>\n",
       "      <td>0.002663</td>\n",
       "      <td>125.951</td>\n",
       "    </tr>\n",
       "    <tr>\n",
       "      <th>3</th>\n",
       "      <td>1600</td>\n",
       "      <td>0.0</td>\n",
       "      <td>0.3048</td>\n",
       "      <td>71.3</td>\n",
       "      <td>0.002663</td>\n",
       "      <td>127.591</td>\n",
       "    </tr>\n",
       "    <tr>\n",
       "      <th>4</th>\n",
       "      <td>2000</td>\n",
       "      <td>0.0</td>\n",
       "      <td>0.3048</td>\n",
       "      <td>71.3</td>\n",
       "      <td>0.002663</td>\n",
       "      <td>127.461</td>\n",
       "    </tr>\n",
       "    <tr>\n",
       "      <th>5</th>\n",
       "      <td>2500</td>\n",
       "      <td>0.0</td>\n",
       "      <td>0.3048</td>\n",
       "      <td>71.3</td>\n",
       "      <td>0.002663</td>\n",
       "      <td>125.571</td>\n",
       "    </tr>\n",
       "    <tr>\n",
       "      <th>6</th>\n",
       "      <td>3150</td>\n",
       "      <td>0.0</td>\n",
       "      <td>0.3048</td>\n",
       "      <td>71.3</td>\n",
       "      <td>0.002663</td>\n",
       "      <td>125.201</td>\n",
       "    </tr>\n",
       "    <tr>\n",
       "      <th>7</th>\n",
       "      <td>4000</td>\n",
       "      <td>0.0</td>\n",
       "      <td>0.3048</td>\n",
       "      <td>71.3</td>\n",
       "      <td>0.002663</td>\n",
       "      <td>123.061</td>\n",
       "    </tr>\n",
       "    <tr>\n",
       "      <th>8</th>\n",
       "      <td>5000</td>\n",
       "      <td>0.0</td>\n",
       "      <td>0.3048</td>\n",
       "      <td>71.3</td>\n",
       "      <td>0.002663</td>\n",
       "      <td>121.301</td>\n",
       "    </tr>\n",
       "    <tr>\n",
       "      <th>9</th>\n",
       "      <td>6300</td>\n",
       "      <td>0.0</td>\n",
       "      <td>0.3048</td>\n",
       "      <td>71.3</td>\n",
       "      <td>0.002663</td>\n",
       "      <td>119.541</td>\n",
       "    </tr>\n",
       "    <tr>\n",
       "      <th>10</th>\n",
       "      <td>8000</td>\n",
       "      <td>0.0</td>\n",
       "      <td>0.3048</td>\n",
       "      <td>71.3</td>\n",
       "      <td>0.002663</td>\n",
       "      <td>117.151</td>\n",
       "    </tr>\n",
       "    <tr>\n",
       "      <th>11</th>\n",
       "      <td>10000</td>\n",
       "      <td>0.0</td>\n",
       "      <td>0.3048</td>\n",
       "      <td>71.3</td>\n",
       "      <td>0.002663</td>\n",
       "      <td>115.391</td>\n",
       "    </tr>\n",
       "    <tr>\n",
       "      <th>12</th>\n",
       "      <td>12500</td>\n",
       "      <td>0.0</td>\n",
       "      <td>0.3048</td>\n",
       "      <td>71.3</td>\n",
       "      <td>0.002663</td>\n",
       "      <td>112.241</td>\n",
       "    </tr>\n",
       "    <tr>\n",
       "      <th>13</th>\n",
       "      <td>16000</td>\n",
       "      <td>0.0</td>\n",
       "      <td>0.3048</td>\n",
       "      <td>71.3</td>\n",
       "      <td>0.002663</td>\n",
       "      <td>108.721</td>\n",
       "    </tr>\n",
       "    <tr>\n",
       "      <th>14</th>\n",
       "      <td>500</td>\n",
       "      <td>0.0</td>\n",
       "      <td>0.3048</td>\n",
       "      <td>55.5</td>\n",
       "      <td>0.002831</td>\n",
       "      <td>126.416</td>\n",
       "    </tr>\n",
       "  </tbody>\n",
       "</table>\n",
       "</div>"
      ],
      "text/plain": [
       "    frecuencia  angulo  longitud  velocidad   espesor  presion\n",
       "0          800     0.0    0.3048       71.3  0.002663  126.201\n",
       "1         1000     0.0    0.3048       71.3  0.002663  125.201\n",
       "2         1250     0.0    0.3048       71.3  0.002663  125.951\n",
       "3         1600     0.0    0.3048       71.3  0.002663  127.591\n",
       "4         2000     0.0    0.3048       71.3  0.002663  127.461\n",
       "5         2500     0.0    0.3048       71.3  0.002663  125.571\n",
       "6         3150     0.0    0.3048       71.3  0.002663  125.201\n",
       "7         4000     0.0    0.3048       71.3  0.002663  123.061\n",
       "8         5000     0.0    0.3048       71.3  0.002663  121.301\n",
       "9         6300     0.0    0.3048       71.3  0.002663  119.541\n",
       "10        8000     0.0    0.3048       71.3  0.002663  117.151\n",
       "11       10000     0.0    0.3048       71.3  0.002663  115.391\n",
       "12       12500     0.0    0.3048       71.3  0.002663  112.241\n",
       "13       16000     0.0    0.3048       71.3  0.002663  108.721\n",
       "14         500     0.0    0.3048       55.5  0.002831  126.416"
      ]
     },
     "execution_count": 5,
     "metadata": {},
     "output_type": "execute_result"
    }
   ],
   "source": [
    "#Leer CSV\n",
    "df = pd.read_csv('Nasa.csv')\n",
    "print('Dimensiones del Dataframe:', df.shape)\n",
    "df.head(15)"
   ]
  },
  {
   "cell_type": "markdown",
   "id": "fad438c3-f8a9-4758-8b9a-74d4b1961cc0",
   "metadata": {},
   "source": [
    "2. Separa el data frame en datos de entrenamiento y datos de prueba con una proporción 70/30. Imprime en pantalla las dimensiones de ambos conjuntos de datos. Revisa y asegúrate\n",
    "que la cantidad de observaciones de ambos conjuntos de datos sumen a la cantidad d \r\n",
    "datos origina.\r"
   ]
  },
  {
   "cell_type": "code",
   "execution_count": 7,
   "id": "e34a2107-4acd-4a8a-b66f-5bf8e249d20a",
   "metadata": {},
   "outputs": [
    {
     "name": "stdout",
     "output_type": "stream",
     "text": [
      "Dimensiones de los datos de Train: (1052, 6) \n",
      "Dimensiones de los datos de Test: (451, 6)\n",
      "Suma de los datos de Train y Test: 1503 \n",
      "Datos totales del Dataframe: 1503\n"
     ]
    }
   ],
   "source": [
    "df_train, df_test = train_test_split(df, test_size=0.3, random_state=0)\n",
    "print('Dimensiones de los datos de Train:', df_train.shape, '\\nDimensiones de los datos de Test:', df_test.shape)\n",
    "print('Suma de los datos de Train y Test:', df_train.shape[0] + df_test.shape[0], '\\nDatos totales del Dataframe:', df.shape[0])"
   ]
  },
  {
   "cell_type": "markdown",
   "id": "515516b4-c3e7-465a-b4df-be3c39190e98",
   "metadata": {},
   "source": [
    "3. Entrena un modelo de regresión lineal múltiple, para que las primeras 5 variables del \n",
    "sistema intenten predecir a la sexta, “presion” Imprime en pantalla un \n",
    "resumen del modelo, donde se muestre claramente el coeficiente estimado de cad \r\n",
    "variable, así como su p-value asociado, entre otras cosas.."
   ]
  },
  {
   "cell_type": "code",
   "execution_count": 9,
   "id": "c4abdc0a-98ef-4743-9110-8ec6c5a7c0be",
   "metadata": {},
   "outputs": [
    {
     "name": "stdout",
     "output_type": "stream",
     "text": [
      "                            OLS Regression Results                            \n",
      "==============================================================================\n",
      "Dep. Variable:                presion   R-squared:                       0.511\n",
      "Model:                            OLS   Adj. R-squared:                  0.509\n",
      "Method:                 Least Squares   F-statistic:                     218.9\n",
      "Date:                Thu, 30 Jan 2025   Prob (F-statistic):          7.42e-160\n",
      "Time:                        15:27:59   Log-Likelihood:                -3149.9\n",
      "No. Observations:                1052   AIC:                             6312.\n",
      "Df Residuals:                    1046   BIC:                             6342.\n",
      "Df Model:                           5                                         \n",
      "Covariance Type:            nonrobust                                         \n",
      "==============================================================================\n",
      "                 coef    std err          t      P>|t|      [0.025      0.975]\n",
      "------------------------------------------------------------------------------\n",
      "const        132.7685      0.648    204.763      0.000     131.496     134.041\n",
      "frecuencia    -0.0013    5.1e-05    -24.767      0.000      -0.001      -0.001\n",
      "angulo        -0.4065      0.046     -8.876      0.000      -0.496      -0.317\n",
      "longitud     -36.9221      1.937    -19.059      0.000     -40.723     -33.121\n",
      "velocidad      0.1027      0.010     10.574      0.000       0.084       0.122\n",
      "espesor     -151.8135     18.060     -8.406      0.000    -187.251    -116.376\n",
      "==============================================================================\n",
      "Omnibus:                       11.579   Durbin-Watson:                   2.059\n",
      "Prob(Omnibus):                  0.003   Jarque-Bera (JB):               17.275\n",
      "Skew:                          -0.060   Prob(JB):                     0.000177\n",
      "Kurtosis:                       3.616   Cond. No.                     5.19e+05\n",
      "==============================================================================\n",
      "\n",
      "Notes:\n",
      "[1] Standard Errors assume that the covariance matrix of the errors is correctly specified.\n",
      "[2] The condition number is large, 5.19e+05. This might indicate that there are\n",
      "strong multicollinearity or other numerical problems.\n",
      "\n",
      "P-values:\n",
      " const          0.000000e+00\n",
      "frecuencia    6.138700e-107\n",
      "angulo         2.944032e-18\n",
      "longitud       9.585152e-70\n",
      "velocidad      6.756515e-25\n",
      "espesor        1.371407e-16\n",
      "dtype: float64\n"
     ]
    }
   ],
   "source": [
    "x = df[['frecuencia', 'angulo', 'longitud', 'velocidad', 'espesor']]\n",
    "y = df['presion']\n",
    "#Separamos los datos en train | test\n",
    "x_train, x_test, y_train, y_test = train_test_split(x, y, test_size=0.3, random_state=0)\n",
    "x_train.shape, x_test.shape, y_train.shape, y_test.shape\n",
    "model = sm.OLS(y_train, sm.add_constant(x_train))\n",
    "results = model.fit()\n",
    "print(results.summary())\n",
    "print('\\nP-values:\\n', results.pvalues)"
   ]
  },
  {
   "cell_type": "markdown",
   "id": "36aba088-6b29-46b2-9e97-10964d1ac3ca",
   "metadata": {},
   "source": [
    "4. A partir de los resultados mostrados en la tabla, indica si consideras que existe al menos \n",
    "una variable significativa en el modelo. Adicionalmente  indica específicamente cuá   \r\n",
    "cuáles variables específicas tienen una asociación lineal significativa con la salida y cu l\r\n",
    "considerarías que es la variable más importante del modelo. Imprime en consola c una de estas aseveraciones como texto, pero indica claramente en qué métrica te estás \n",
    "basando para llegar a cada conclusión.ada"
   ]
  },
  {
   "cell_type": "code",
   "execution_count": 11,
   "id": "aab063be-2011-4bd2-96e3-28d2fdbe5f6a",
   "metadata": {},
   "outputs": [
    {
     "name": "stdout",
     "output_type": "stream",
     "text": [
      "Considero que existe al menos una variable significativa en el modelo, específicamente considero que frecuencia debería ser una variable con una asociación lineal significativa, ya que su p-value es el más pequeño de todos las variables. De la misma forma considero que la variable longitud puede tener una asociación lineal significativa siendo la variable con el segundo menor p-value de todas. En cuanto a las demas, su p-value ronda aproximadamente por los mismos valores entre 25 y 20, lo cual podría indicar que solo una de ellas es significativa.\n"
     ]
    }
   ],
   "source": [
    "print('Considero que existe al menos una variable significativa en el modelo, específicamente considero que frecuencia debería ser una variable con una asociación lineal significativa, ya que su p-value es el más pequeño de todos las variables. De la misma forma considero que la variable longitud puede tener una asociación lineal significativa siendo la variable con el segundo menor p-value de todas. En cuanto a las demas, su p-value ronda aproximadamente por los mismos valores entre 25 y 20, lo cual podría indicar que solo una de ellas es significativa.')"
   ]
  },
  {
   "cell_type": "markdown",
   "id": "096821e6-9d52-46e5-8f3d-538ee9c4ebc8",
   "metadata": {},
   "source": [
    "5. Calcula el residual standard error y la R^22 del modelo, tanto para los datos d \r\n",
    "entrenamiento como para los datos de validación e imprime dichos valores en la consol .\r\n",
    "Para el cálculo de las métricas en el conjunto de entrenamiento, te recomiendo usar  os\r\n",
    "atributos ‘scale’ (y sacar la raíz cuadrada) y ‘rsquared’."
   ]
  },
  {
   "cell_type": "code",
   "execution_count": 13,
   "id": "1b0668fe-5f5b-42ef-80f6-0240c46ec18a",
   "metadata": {},
   "outputs": [
    {
     "name": "stdout",
     "output_type": "stream",
     "text": [
      "RSE de Train =  4.045347902935131\n",
      "RSE de Test =  2.5940756488427392\n",
      "R^2 de Train =  0.5113402222530259\n",
      "R^2 de Test =  0.5236569764931662\n"
     ]
    }
   ],
   "source": [
    "yPredTest = results.predict(sm.add_constant(x_test))\n",
    "yPromTest = np.mean(y_test)\n",
    "RSSTest = sum((y_test - yPredTest)**2)\n",
    "yPredTrain = results.predict(sm.add_constant(x_train))\n",
    "yPromTrain = np.mean(y_train)\n",
    "RSSTrain = sum((y_train - yPredTrain)**2)\n",
    "#Calcular RSE\n",
    "RSETest = np.sqrt(RSSTest/(len(x)-2))\n",
    "RSETrain = np.sqrt(RSSTrain/(len(x)-2))\n",
    "print('RSE de Train = ', RSETrain)\n",
    "print('RSE de Test = ', RSETest)\n",
    "#Calcular R^2 con TSS\n",
    "TSSTest = sum((y_test - yPromTest)**2)\n",
    "R2Test = (TSSTest - RSSTest)/TSSTest\n",
    "TSSTrain = sum((y_train - yPromTrain)**2)\n",
    "R2Train = (TSSTrain - RSSTrain)/TSSTrain\n",
    "print('R^2 de Train = ', R2Train)\n",
    "print('R^2 de Test = ', R2Test)"
   ]
  },
  {
   "cell_type": "markdown",
   "id": "3a9050a9-44c8-47df-9ca7-32370baa4bb8",
   "metadata": {},
   "source": [
    "6. Finalmente, tratemos de visualizar los resultados obtenidos. Genera una gráfica de \n",
    "dispersión que cuente con el valor real de Y (la presión sonora) para el conjunto de dato \r\n",
    "de validación en el eje x, y que cuente con el valor estimado de Y, de acuerdo al model ,\r\n",
    "para el mismo conjunto de datos en el eje y. Idealmente, si el modelo fuera perfecto, se\r\n",
    "tendría una línea recta con una pendiente de 1 (45 grados), pues el valor real y el valor\r\n",
    "estimado serían idénticos. Esta es una manera cualitativa de evaluar la calidad de nu stro\r\n",
    "modelo, entre más se asemejen los puntos a una línea  ecta, mejor. Comenta sob e los\r\n",
    "resultados obtenidos.nidos."
   ]
  },
  {
   "cell_type": "code",
   "execution_count": 24,
   "id": "58f9f5d6-ab0a-4167-b8c9-d23dd6464818",
   "metadata": {},
   "outputs": [
    {
     "data": {
      "image/png": "[encoded data removed]",
      "text/plain": [
       "<Figure size 640x480 with 1 Axes>"
      ]
     },
     "metadata": {},
     "output_type": "display_data"
    }
   ],
   "source": [
    "xgraph = y_test\n",
    "ygraph = yPredTest\n",
    "plt.scatter(xgraph, ygraph, color='g', alpha=0.75)\n",
    "plt.xlabel('Presión Real')\n",
    "plt.ylabel('Presión Predicha')\n",
    "plt.plot([min(xgraph), max(xgraph)], [min(ygraph), max(ygraph)], color='red')\n",
    "plt.show()"
   ]
  },
  {
   "cell_type": "markdown",
   "id": "fd5c30e3-e559-4a8e-b290-c715b0b3fc6e",
   "metadata": {},
   "source": [
    "Se puede observar por esta gráfica que la linea parece tener una pendiente de 45°, lo cuál es positivo, ya que esto prueba que el modelo está muy cerca de ser perfecto para el conjunto de datos de válidación, siendo que el valor estimado y el valor real son casi identicos."
   ]
  },
  {
   "cell_type": "markdown",
   "id": "3ff6f1ee-a9bc-4bfb-b6f6-ebb3cda7b376",
   "metadata": {},
   "source": [
    "### *\"Doy mi palabra de que he realizado esta actividad con integridad académica.\"*"
   ]
  }
 ],
 "metadata": {
  "kernelspec": {
   "display_name": "Python 3 (ipykernel)",
   "language": "python",
   "name": "python3"
  },
  "language_info": {
   "codemirror_mode": {
    "name": "ipython",
    "version": 3
   },
   "file_extension": ".py",
   "mimetype": "text/x-python",
   "name": "python",
   "nbconvert_exporter": "python",
   "pygments_lexer": "ipython3",
   "version": "3.12.3"
  }
 },
 "nbformat": 4,
 "nbformat_minor": 5
}
